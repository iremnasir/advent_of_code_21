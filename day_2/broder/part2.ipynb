{
 "cells": [
  {
   "cell_type": "code",
   "execution_count": 1,
   "metadata": {},
   "outputs": [],
   "source": [
    "f = open(\"data.txt\",\"r\")\n",
    "commands = f.readlines()"
   ]
  },
  {
   "cell_type": "code",
   "execution_count": 2,
   "metadata": {},
   "outputs": [],
   "source": [
    "def executeCommand(position,depth, aim, direction, amount):\n",
    "    if direction == \"forward\":\n",
    "        position += amount\n",
    "        depth+=aim*amount\n",
    "    elif direction == \"down\":\n",
    "        aim += amount\n",
    "    elif direction == \"up\":\n",
    "        aim -= amount\n",
    "    else:\n",
    "        raise ValueError(f\"Unsupported direction {direction}\")\n",
    "\n",
    "    return position, depth, aim"
   ]
  },
  {
   "cell_type": "code",
   "execution_count": 4,
   "metadata": {},
   "outputs": [
    {
     "name": "stdout",
     "output_type": "stream",
     "text": [
      "1872757425\n"
     ]
    }
   ],
   "source": [
    "position = 0\n",
    "depth = 0\n",
    "aim = 0\n",
    "\n",
    "for command in commands:\n",
    "    commandarray = command.split()\n",
    "    position, depth, aim = executeCommand(position, depth, aim, commandarray[0], int(commandarray[1]))\n",
    "\n",
    "print(position*depth)"
   ]
  }
 ],
 "metadata": {
  "interpreter": {
   "hash": "586ad1ed5c97141e2437e681efbf1ec0adcd17d830cf5af2ca3d2819e743e158"
  },
  "kernelspec": {
   "display_name": "Python 3.8.8 64-bit ('base': conda)",
   "language": "python",
   "name": "python3"
  },
  "language_info": {
   "codemirror_mode": {
    "name": "ipython",
    "version": 3
   },
   "file_extension": ".py",
   "mimetype": "text/x-python",
   "name": "python",
   "nbconvert_exporter": "python",
   "pygments_lexer": "ipython3",
   "version": "3.8.8"
  },
  "orig_nbformat": 4
 },
 "nbformat": 4,
 "nbformat_minor": 2
}
