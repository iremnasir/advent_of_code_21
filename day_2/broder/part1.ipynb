{
 "cells": [
  {
   "cell_type": "code",
   "execution_count": 14,
   "metadata": {},
   "outputs": [],
   "source": [
    "f = open(\"data.txt\",\"r\")\n",
    "commands = f.readlines()"
   ]
  },
  {
   "cell_type": "code",
   "execution_count": 11,
   "metadata": {},
   "outputs": [],
   "source": [
    "def executeCommand(position, depth, direction, amount):\n",
    "    if direction == \"forward\":\n",
    "        position += amount\n",
    "    elif direction == \"down\":\n",
    "        depth += amount\n",
    "    elif direction == \"up\":\n",
    "        depth -= amount\n",
    "    else:\n",
    "        raise ValueError(f\"Unsupported direction {direction}\")\n",
    "\n",
    "    return position, depth"
   ]
  },
  {
   "cell_type": "code",
   "execution_count": 13,
   "metadata": {},
   "outputs": [
    {
     "name": "stdout",
     "output_type": "stream",
     "text": [
      "1636725\n"
     ]
    }
   ],
   "source": [
    "position = 0\n",
    "depth = 0\n",
    "\n",
    "for command in commands:\n",
    "    commandarray = command.split()\n",
    "    position, depth = executeCommand(position, depth, commandarray[0], int(commandarray[1]))\n",
    "\n",
    "print(position*depth)"
   ]
  }
 ],
 "metadata": {
  "interpreter": {
   "hash": "586ad1ed5c97141e2437e681efbf1ec0adcd17d830cf5af2ca3d2819e743e158"
  },
  "kernelspec": {
   "display_name": "Python 3.8.8 64-bit ('base': conda)",
   "language": "python",
   "name": "python3"
  },
  "language_info": {
   "codemirror_mode": {
    "name": "ipython",
    "version": 3
   },
   "file_extension": ".py",
   "mimetype": "text/x-python",
   "name": "python",
   "nbconvert_exporter": "python",
   "pygments_lexer": "ipython3",
   "version": "3.8.8"
  },
  "orig_nbformat": 4
 },
 "nbformat": 4,
 "nbformat_minor": 2
}
