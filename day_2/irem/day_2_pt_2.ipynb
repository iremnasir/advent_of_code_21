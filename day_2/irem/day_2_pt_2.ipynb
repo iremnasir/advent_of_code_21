{
 "cells": [
  {
   "cell_type": "code",
   "execution_count": 1,
   "metadata": {},
   "outputs": [],
   "source": [
    "with open('data.txt', 'r') as f:\n",
    "    data = f.readlines()\n",
    "    data = [elem.strip('\\n') for elem in data]"
   ]
  },
  {
   "cell_type": "code",
   "execution_count": 6,
   "metadata": {},
   "outputs": [],
   "source": [
    "def find_distance_depth_aim(comm, distance, depth, aim, unit):\n",
    "    distance, depth, aim= distance, depth, aim\n",
    "    if comm.lower().startswith('f'):\n",
    "        distance += unit\n",
    "        depth += (unit * aim)\n",
    "    elif comm.lower().startswith('u'):\n",
    "        aim -= unit\n",
    "    elif comm.lower().startswith('d'):\n",
    "        aim += unit\n",
    "    return distance, depth, aim"
   ]
  },
  {
   "cell_type": "code",
   "execution_count": 7,
   "metadata": {},
   "outputs": [],
   "source": [
    "dist, dep, a = 0,0, 0\n",
    "for elem in data:\n",
    "    dist, dep, a= find_distance_depth_aim(elem.split(' ')[0], dist, dep, a, int(elem.split(' ')[1]))\n"
   ]
  },
  {
   "cell_type": "code",
   "execution_count": 8,
   "metadata": {},
   "outputs": [
    {
     "data": {
      "text/plain": [
       "1903644897"
      ]
     },
     "execution_count": 8,
     "metadata": {},
     "output_type": "execute_result"
    }
   ],
   "source": [
    "dist * dep"
   ]
  },
  {
   "cell_type": "code",
   "execution_count": null,
   "metadata": {},
   "outputs": [],
   "source": []
  }
 ],
 "metadata": {
  "interpreter": {
   "hash": "e8def715ee7785ddf2fb20abcd59b34be23a457a99eccb1d68014ac65e4c603c"
  },
  "kernelspec": {
   "display_name": "Python 3.7.10 64-bit ('db': conda)",
   "language": "python",
   "name": "python3"
  },
  "language_info": {
   "codemirror_mode": {
    "name": "ipython",
    "version": 3
   },
   "file_extension": ".py",
   "mimetype": "text/x-python",
   "name": "python",
   "nbconvert_exporter": "python",
   "pygments_lexer": "ipython3",
   "version": "3.7.10"
  },
  "orig_nbformat": 4
 },
 "nbformat": 4,
 "nbformat_minor": 2
}
