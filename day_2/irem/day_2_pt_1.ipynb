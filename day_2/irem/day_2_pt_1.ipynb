{
 "cells": [
  {
   "cell_type": "code",
   "execution_count": 5,
   "metadata": {},
   "outputs": [],
   "source": [
    "with open('data.txt', 'r') as f:\n",
    "    data = f.readlines()\n",
    "    data = [elem.strip('\\n') for elem in data]\n",
    "\n"
   ]
  },
  {
   "cell_type": "code",
   "execution_count": 7,
   "metadata": {},
   "outputs": [],
   "source": [
    "def find_distance_depth(comm, unit):\n",
    "    distance, depth= 0,0\n",
    "    if comm.lower().startswith('f'):\n",
    "        distance += unit\n",
    "    elif comm.lower().startswith('u'):\n",
    "        depth -= unit\n",
    "    elif comm.lower().startswith('d'):\n",
    "        depth += unit\n",
    "    return distance, depth\n",
    "    "
   ]
  },
  {
   "cell_type": "code",
   "execution_count": 8,
   "metadata": {},
   "outputs": [],
   "source": [
    "dist, dep = 0,0\n",
    "for elem in data:\n",
    "    distance, depth = find_distance_depth(elem.split(' ')[0], int(elem.split(' ')[1]))\n",
    "    dist += distance\n",
    "    dep += depth"
   ]
  },
  {
   "cell_type": "code",
   "execution_count": 11,
   "metadata": {},
   "outputs": [
    {
     "data": {
      "text/plain": [
       "2027977"
      ]
     },
     "execution_count": 11,
     "metadata": {},
     "output_type": "execute_result"
    }
   ],
   "source": [
    "dist*dep"
   ]
  },
  {
   "cell_type": "code",
   "execution_count": null,
   "metadata": {},
   "outputs": [],
   "source": []
  }
 ],
 "metadata": {
  "interpreter": {
   "hash": "e8def715ee7785ddf2fb20abcd59b34be23a457a99eccb1d68014ac65e4c603c"
  },
  "kernelspec": {
   "display_name": "Python 3.7.10 64-bit ('db': conda)",
   "language": "python",
   "name": "python3"
  },
  "language_info": {
   "codemirror_mode": {
    "name": "ipython",
    "version": 3
   },
   "file_extension": ".py",
   "mimetype": "text/x-python",
   "name": "python",
   "nbconvert_exporter": "python",
   "pygments_lexer": "ipython3",
   "version": "3.7.10"
  },
  "orig_nbformat": 4
 },
 "nbformat": 4,
 "nbformat_minor": 2
}
