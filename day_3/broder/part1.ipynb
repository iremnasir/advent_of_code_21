{
 "cells": [
  {
   "cell_type": "code",
   "execution_count": 3,
   "metadata": {},
   "outputs": [],
   "source": [
    "f = open(\"data.txt\",\"r\")\n",
    "diagnoses = f.readlines()"
   ]
  },
  {
   "cell_type": "code",
   "execution_count": 4,
   "metadata": {},
   "outputs": [
    {
     "name": "stdout",
     "output_type": "stream",
     "text": [
      "True\n"
     ]
    }
   ],
   "source": [
    "gamma_rate = \"\"\n",
    "epsilon_rate = \"\"\n",
    "i = 0\n",
    "max = len(diagnoses[0]) - 1\n",
    "\n",
    "while i < max:\n",
    "    zeros = len(list(filter(lambda x: x[i] == \"0\", diagnoses)))\n",
    "    ones = len(list(filter(lambda x: x[i] == \"1\", diagnoses)))\n",
    "    if zeros > ones:\n",
    "        gamma_rate += \"0\"\n",
    "        epsilon_rate += \"1\"\n",
    "    elif ones > zeros: \n",
    "        gamma_rate += \"1\"\n",
    "        epsilon_rate += \"0\"\n",
    "    else:\n",
    "        raise ValueError(\"Confused computer noise\")\n",
    "\n",
    "    if len(diagnoses) == 1:\n",
    "        break\n",
    "    i += 1\n",
    "\n",
    "gamma_rate = int(gamma_rate, 2)\n",
    "epsilon_rate = int(epsilon_rate, 2)\n",
    "\n",
    "print(gamma_rate * epsilon_rate)"
   ]
  }
 ],
 "metadata": {
  "interpreter": {
   "hash": "586ad1ed5c97141e2437e681efbf1ec0adcd17d830cf5af2ca3d2819e743e158"
  },
  "kernelspec": {
   "display_name": "Python 3.8.8 64-bit ('base': conda)",
   "language": "python",
   "name": "python3"
  },
  "language_info": {
   "codemirror_mode": {
    "name": "ipython",
    "version": 3
   },
   "file_extension": ".py",
   "mimetype": "text/x-python",
   "name": "python",
   "nbconvert_exporter": "python",
   "pygments_lexer": "ipython3",
   "version": "3.8.8"
  },
  "orig_nbformat": 4
 },
 "nbformat": 4,
 "nbformat_minor": 2
}
