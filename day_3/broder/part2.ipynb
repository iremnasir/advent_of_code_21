{
 "cells": [
  {
   "cell_type": "code",
   "execution_count": 101,
   "metadata": {},
   "outputs": [],
   "source": [
    "f = open(\"data.txt\",\"r\")\n",
    "diagnoses = f.readlines()"
   ]
  },
  {
   "cell_type": "code",
   "execution_count": 102,
   "metadata": {},
   "outputs": [
    {
     "name": "stdout",
     "output_type": "stream",
     "text": [
      "1613181\n"
     ]
    }
   ],
   "source": [
    "oxygen_rating = \"\"\n",
    "scrubber_rating = \"\"\n",
    "scrubber_diagnoses = diagnoses\n",
    "i = 0\n",
    "max = len(diagnoses[0]) - 1\n",
    "\n",
    "# Reusable filter, besides creating a function?\n",
    "\n",
    "while i < max:\n",
    "    zeros = len(list(filter(lambda x: x[i] == \"0\", diagnoses)))\n",
    "    ones = len(list(filter(lambda x: x[i] == \"1\", diagnoses)))\n",
    "    if zeros > ones:\n",
    "        diagnoses = list(filter(lambda x: x[i] == \"0\", diagnoses))\n",
    "    elif ones > zeros: \n",
    "        diagnoses = list(filter(lambda x: x[i] == \"1\", diagnoses))\n",
    "    else:\n",
    "        diagnoses = list(filter(lambda x: x[i] == \"1\", diagnoses))\n",
    "    if len(diagnoses) == 1:\n",
    "        break\n",
    "    i += 1\n",
    "\n",
    "i = 0\n",
    "while i < max:\n",
    "    zeros = len(list(filter(lambda x: x[i] == \"0\", scrubber_diagnoses)))\n",
    "    ones = len(list(filter(lambda x: x[i] == \"1\", scrubber_diagnoses)))\n",
    "    if zeros > ones:\n",
    "        scrubber_diagnoses = list(filter(lambda x: x[i] == \"1\", scrubber_diagnoses))\n",
    "    elif ones > zeros: \n",
    "        scrubber_diagnoses = list(filter(lambda x: x[i] == \"0\", scrubber_diagnoses))\n",
    "    else:\n",
    "        scrubber_diagnoses = list(filter(lambda x: x[i] == \"0\", scrubber_diagnoses))\n",
    "    if len(scrubber_diagnoses) == 1:\n",
    "        break\n",
    "    i += 1\n",
    "\n",
    "diagnoses = int(diagnoses[0], 2)\n",
    "scrubber_diagnoses = int(scrubber_diagnoses[0], 2)\n",
    "\n",
    "print(diagnoses * scrubber_diagnoses)"
   ]
  }
 ],
 "metadata": {
  "interpreter": {
   "hash": "586ad1ed5c97141e2437e681efbf1ec0adcd17d830cf5af2ca3d2819e743e158"
  },
  "kernelspec": {
   "display_name": "Python 3.8.8 64-bit ('base': conda)",
   "language": "python",
   "name": "python3"
  },
  "language_info": {
   "codemirror_mode": {
    "name": "ipython",
    "version": 3
   },
   "file_extension": ".py",
   "mimetype": "text/x-python",
   "name": "python",
   "nbconvert_exporter": "python",
   "pygments_lexer": "ipython3",
   "version": "3.8.8"
  },
  "orig_nbformat": 4
 },
 "nbformat": 4,
 "nbformat_minor": 2
}
