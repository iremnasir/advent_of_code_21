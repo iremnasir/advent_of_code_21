{
 "cells": [
  {
   "cell_type": "code",
   "execution_count": 270,
   "metadata": {},
   "outputs": [],
   "source": [
    "f = open(\"data.txt\",\"r\")\n",
    "input = f.readlines()\n",
    "\n",
    "numbers = input.pop(0).split(',')\n",
    "board_amount = len(input) / 6\n",
    "\n",
    "input.pop(0)\n",
    "\n",
    "boards = []\n",
    "i = 0\n",
    "while i < board_amount:\n",
    "    boards.append([x.split() for x in input[:5]])\n",
    "    input = input[6:]\n",
    "    i += 1"
   ]
  },
  {
   "cell_type": "code",
   "execution_count": 271,
   "metadata": {},
   "outputs": [],
   "source": [
    "def column_check(board):\n",
    "    k = 0\n",
    "    while k < 5:\n",
    "        bingo = tuple(zip(*board))[k].count('x') == 5\n",
    "        if bingo:\n",
    "            return bingo\n",
    "        k += 1\n"
   ]
  },
  {
   "cell_type": "code",
   "execution_count": 272,
   "metadata": {},
   "outputs": [],
   "source": [
    "def loopy():\n",
    "    for number in numbers:\n",
    "        for i, board in enumerate(boards):\n",
    "            for j, board_row in enumerate(board):\n",
    "                boards[i][j] = ['x' if item == number else item for item in board_row]\n",
    "                if boards[i][j].count('x') == 5 or column_check(boards[i]):\n",
    "                    return i, number"
   ]
  },
  {
   "cell_type": "code",
   "execution_count": 273,
   "metadata": {},
   "outputs": [
    {
     "name": "stdout",
     "output_type": "stream",
     "text": [
      "[['41', '69', '63', '88', 'x'], ['25', '56', '23', 'x', 'x'], ['8', '92', '59', '66', 'x'], ['48', '61', '77', '15', 'x'], ['x', '47', '91', 'x', 'x']]\n"
     ]
    },
    {
     "data": {
      "text/plain": [
       "74320"
      ]
     },
     "execution_count": 273,
     "metadata": {},
     "output_type": "execute_result"
    }
   ],
   "source": [
    "import itertools\n",
    "index, number = loopy()\n",
    "bingo_board = boards[index]\n",
    "print(bingo_board)\n",
    "\n",
    "sum(list(map(int, filter(lambda x: x != 'x', list(itertools.chain(*bingo_board)))))) * int(number)"
   ]
  }
 ],
 "metadata": {
  "interpreter": {
   "hash": "586ad1ed5c97141e2437e681efbf1ec0adcd17d830cf5af2ca3d2819e743e158"
  },
  "kernelspec": {
   "display_name": "Python 3.8.8 64-bit ('base': conda)",
   "language": "python",
   "name": "python3"
  },
  "language_info": {
   "codemirror_mode": {
    "name": "ipython",
    "version": 3
   },
   "file_extension": ".py",
   "mimetype": "text/x-python",
   "name": "python",
   "nbconvert_exporter": "python",
   "pygments_lexer": "ipython3",
   "version": "3.8.8"
  },
  "orig_nbformat": 4
 },
 "nbformat": 4,
 "nbformat_minor": 2
}
