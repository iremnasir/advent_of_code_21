{
 "cells": [
  {
   "cell_type": "code",
   "execution_count": 20,
   "id": "16eb3e03-db13-4dcb-bb20-6e57f2255f63",
   "metadata": {},
   "outputs": [],
   "source": [
    "with open('data_irem.txt', 'r') as f:\n",
    "    data = f.readlines()\n",
    "    data = [ int(elem.strip('\\n')) for elem in data]\n",
    "    \n",
    "\n",
    "    # data = [int(x) for x in data]"
   ]
  },
  {
   "cell_type": "code",
   "execution_count": 29,
   "id": "66bbbdeb",
   "metadata": {},
   "outputs": [],
   "source": [
    "count = 0\n",
    "\n",
    "for idx, elem in enumerate(data):\n",
    "    if idx == len(data) - 1:\n",
    "        break\n",
    "    if data[idx+1] > elem:\n",
    "        count +=1"
   ]
  },
  {
   "cell_type": "code",
   "execution_count": 30,
   "id": "a21bfcc5",
   "metadata": {},
   "outputs": [
    {
     "data": {
      "text/plain": [
       "1521"
      ]
     },
     "execution_count": 30,
     "metadata": {},
     "output_type": "execute_result"
    }
   ],
   "source": [
    "count"
   ]
  },
  {
   "cell_type": "code",
   "execution_count": null,
   "id": "872acb1e",
   "metadata": {},
   "outputs": [],
   "source": []
  }
 ],
 "metadata": {
  "kernelspec": {
   "display_name": "Python 3 (ipykernel)",
   "language": "python",
   "name": "python3"
  },
  "language_info": {
   "codemirror_mode": {
    "name": "ipython",
    "version": 3
   },
   "file_extension": ".py",
   "mimetype": "text/x-python",
   "name": "python",
   "nbconvert_exporter": "python",
   "pygments_lexer": "ipython3",
   "version": "3.7.10"
  }
 },
 "nbformat": 4,
 "nbformat_minor": 5
}
