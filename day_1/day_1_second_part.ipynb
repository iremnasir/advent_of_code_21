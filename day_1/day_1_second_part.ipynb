{
 "cells": [
  {
   "cell_type": "code",
   "execution_count": 1,
   "id": "2755a975-d2be-498c-bc44-c4a5b5c58a94",
   "metadata": {},
   "outputs": [],
   "source": [
    "with open('data_irem.txt', 'r') as f:\n",
    "    data = f.readlines()\n",
    "    data = [ int(elem.strip('\\n')) for elem in data]"
   ]
  },
  {
   "cell_type": "code",
   "execution_count": 5,
   "id": "d6b6b219",
   "metadata": {},
   "outputs": [],
   "source": [
    "count=0\n",
    "for idx, elem in enumerate(data):\n",
    "    if idx == len(data) - 4:\n",
    "        break\n",
    "    if sum(data[idx+1: idx+4]) > sum(data[idx: idx+3]):\n",
    "        count +=1"
   ]
  },
  {
   "cell_type": "code",
   "execution_count": 6,
   "id": "6705bf72",
   "metadata": {},
   "outputs": [
    {
     "data": {
      "text/plain": [
       "1542"
      ]
     },
     "execution_count": 6,
     "metadata": {},
     "output_type": "execute_result"
    }
   ],
   "source": [
    "count"
   ]
  },
  {
   "cell_type": "code",
   "execution_count": null,
   "id": "cba39259",
   "metadata": {},
   "outputs": [],
   "source": []
  }
 ],
 "metadata": {
  "interpreter": {
   "hash": "e8def715ee7785ddf2fb20abcd59b34be23a457a99eccb1d68014ac65e4c603c"
  },
  "kernelspec": {
   "display_name": "Python [conda env:db]",
   "language": "python",
   "name": "python3"
  },
  "language_info": {
   "codemirror_mode": {
    "name": "ipython",
    "version": 3
   },
   "file_extension": ".py",
   "mimetype": "text/x-python",
   "name": "python",
   "nbconvert_exporter": "python",
   "pygments_lexer": "ipython3",
   "version": "3.7.10"
  }
 },
 "nbformat": 4,
 "nbformat_minor": 5
}
